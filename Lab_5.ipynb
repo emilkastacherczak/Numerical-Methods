{
  "nbformat": 4,
  "nbformat_minor": 0,
  "metadata": {
    "colab": {
      "provenance": []
    },
    "kernelspec": {
      "name": "python3",
      "display_name": "Python 3"
    },
    "language_info": {
      "name": "python"
    }
  },
  "cells": [
    {
      "cell_type": "code",
      "execution_count": 3,
      "metadata": {
        "id": "IoUeXrZ41O5v"
      },
      "outputs": [],
      "source": [
        "import numpy as np\n",
        "import matplotlib.pyplot as plt"
      ]
    },
    {
      "cell_type": "code",
      "source": [
        "#Zad1\n",
        "'''Napisz funkcję implementującą algorytm eliminacji Gaussa dla dowolnej macierzy\n",
        "kwadratowej, którą można sprowadzić do postaci górnej trójkątnej. Przetestuj\n",
        "funkcję dla różnych macierzy (w tym dla macierzy o dużym rozmiarze). Pamiętaj o\n",
        "poprawnej implementacji pivotów.'''\n",
        "\n",
        "def gaussian_elimination(A : np.ndarray):\n",
        "    \"\"\"\n",
        "    A - input matrix (2-D, np.ndarray)\n",
        "    \"\"\"\n",
        "    n=len(A)\n",
        "    U=A.copy().astype(float)\n",
        "    L=np.identity(n)\n",
        "\n",
        "    for k in range(len(A)-1):\n",
        "        max_ind = np.argmax(np.abs(U[k:n,k])) + k\n",
        "        #pivoting\n",
        "        U[ [k,max_ind], k:n ] = U[ [max_ind,k], k:n ]\n",
        "        L[ [k,max_ind], :k ] = L[ [max_ind,k], :k ]\n",
        "\n",
        "        for j in range(k+1, n):\n",
        "            L[j,k] = U[j,k] / U[k,k]\n",
        "            pom = U[j,k:n] - L[j,k]*U[k,k:n]\n",
        "            U[j,k:n] = pom\n",
        "\n",
        "    return U, L  #U-upper, L-lower triangular matrix\n",
        "\n",
        "A=np.array([[2,1,1,0],[4,3,3,1],[8,7,9,5],[6,7,9,8]])\n",
        "print('macierz A:')\n",
        "print(A)\n",
        "Ua, La = gaussian_elimination(A)\n",
        "print('macierz Ua:')\n",
        "print(Ua)\n",
        "print('macierz B:')\n",
        "B = np.random.randint(0, 10, size=(10, 10))\n",
        "print(B)\n",
        "Ub, Lb = gaussian_elimination(B)\n",
        "print('macierz Ub:')\n",
        "print(Ub)"
      ],
      "metadata": {
        "colab": {
          "base_uri": "https://localhost:8080/"
        },
        "id": "uDRjFwa-1TIA",
        "outputId": "12e6a79b-b145-4aaa-b9d3-878403a89ba6"
      },
      "execution_count": 7,
      "outputs": [
        {
          "output_type": "stream",
          "name": "stdout",
          "text": [
            "macierz A:\n",
            "[[2 1 1 0]\n",
            " [4 3 3 1]\n",
            " [8 7 9 5]\n",
            " [6 7 9 8]]\n",
            "macierz Ua:\n",
            "[[ 8.          7.          9.          5.        ]\n",
            " [ 0.          1.75        2.25        4.25      ]\n",
            " [ 0.          0.         -0.85714286 -0.28571429]\n",
            " [ 0.          0.          0.          0.66666667]]\n",
            "macierz B:\n",
            "[[8 0 1 9 9 6 3 6 2 7]\n",
            " [5 3 1 8 0 6 7 8 9 5]\n",
            " [3 0 1 4 8 7 3 1 0 5]\n",
            " [3 0 5 1 7 0 2 8 5 1]\n",
            " [0 1 8 4 9 3 0 3 3 5]\n",
            " [0 3 0 5 9 6 3 8 6 1]\n",
            " [7 4 4 7 5 2 6 0 4 7]\n",
            " [4 4 9 0 4 2 8 8 0 4]\n",
            " [1 9 2 1 8 4 7 5 6 3]\n",
            " [0 0 8 6 6 0 7 3 2 5]]\n",
            "macierz Ub:\n",
            "[[ 8.00000000e+00  0.00000000e+00  1.00000000e+00  9.00000000e+00\n",
            "   9.00000000e+00  6.00000000e+00  3.00000000e+00  6.00000000e+00\n",
            "   2.00000000e+00  7.00000000e+00]\n",
            " [ 0.00000000e+00  9.00000000e+00  1.87500000e+00 -1.25000000e-01\n",
            "   6.87500000e+00  3.25000000e+00  6.62500000e+00  4.25000000e+00\n",
            "   5.75000000e+00  2.12500000e+00]\n",
            " [ 0.00000000e+00  0.00000000e+00  8.00000000e+00  6.00000000e+00\n",
            "   6.00000000e+00  0.00000000e+00  7.00000000e+00  3.00000000e+00\n",
            "   2.00000000e+00  5.00000000e+00]\n",
            " [ 0.00000000e+00  0.00000000e+00  0.00000000e+00 -1.01944444e+01\n",
            "  -9.30555556e+00 -2.44444444e+00 -3.15277778e+00  2.36111111e-01\n",
            "  -5.47222222e+00 -5.23611111e+00]\n",
            " [ 0.00000000e+00  0.00000000e+00  0.00000000e+00 -2.22044605e-16\n",
            "  -1.01062670e+01  5.42234332e-01  2.33004087e+00  2.98739782e+00\n",
            "   4.49795640e+00 -1.26464578e+00]\n",
            " [ 0.00000000e+00  0.00000000e+00  0.00000000e+00  8.88178420e-16\n",
            "   0.00000000e+00  4.92787813e+00  2.20515975e+00 -2.94334726e-01\n",
            "   7.96205177e-01  1.40187719e+00]\n",
            " [ 0.00000000e+00  0.00000000e+00  0.00000000e+00  0.00000000e+00\n",
            "   0.00000000e+00  0.00000000e+00 -7.52599508e+00  9.61284366e-01\n",
            "   2.67111202e+00 -6.11961428e-01]\n",
            " [ 0.00000000e+00  0.00000000e+00  0.00000000e+00  0.00000000e+00\n",
            "   0.00000000e+00  0.00000000e+00  0.00000000e+00 -9.90244636e+00\n",
            "  -1.20516634e+00  1.71803515e+00]\n",
            " [ 0.00000000e+00  0.00000000e+00  0.00000000e+00  0.00000000e+00\n",
            "   0.00000000e+00  0.00000000e+00  0.00000000e+00  0.00000000e+00\n",
            "   8.14865253e+00 -1.10330474e+00]\n",
            " [ 0.00000000e+00  0.00000000e+00  0.00000000e+00  0.00000000e+00\n",
            "   0.00000000e+00  0.00000000e+00  0.00000000e+00  8.88178420e-16\n",
            "   0.00000000e+00 -2.00529047e+00]]\n"
          ]
        }
      ]
    },
    {
      "cell_type": "code",
      "source": [
        "#Zad2\n",
        "'''Korzystając z funkcji zaimplementowanej w Zadaniu 1 - zaimplementuj funkcję\n",
        "do rozwiązywania układów równań (zakładając, że układ równań jest oznaczony).\n",
        "Skorzystaj z funkcji \"solve upper triangular\" zaimplementowanej na zajęciach.'''\n",
        "\n",
        "def solve_upper_triangular(A : np.ndarray, y : np.ndarray):\n",
        "    x = np.zeros_like(y).astype(float)\n",
        "    #iterate backward\n",
        "    for i in range(A.shape[0] - 1, -1, -1):\n",
        "        if i == A.shape[0] - 1:\n",
        "            x[i] = y[i] / A[i,i]\n",
        "        else:\n",
        "            x[i] = (y[i] - np.sum(A[i, i+1:] @ x[i+1:]) ) / A[i, i]\n",
        "    return x\n",
        "\n",
        "def solve_equation(A : np.ndarray, y : np.ndarray):\n",
        "    \"\"\"\n",
        "    A - input matrix (2-D, np.ndarray)\n",
        "    y - coefficients (1-D, np.ndarray)\n",
        "    return x, where Ax = y\n",
        "    \"\"\"\n",
        "    U, L = gaussian_elimination(A)\n",
        "    x = solve_upper_triangular(U, y)\n",
        "    return x\n",
        "\n",
        "A = np.array([\n",
        "    [2, 4, 1],\n",
        "    [0, 1, 3],\n",
        "    [0, 0, 2]\n",
        "])\n",
        "y = np.array([7, 4, 2])\n",
        "\n",
        "x = solve_equation(A, y)\n",
        "print(x)"
      ],
      "metadata": {
        "colab": {
          "base_uri": "https://localhost:8080/"
        },
        "id": "sAdMKUEH3ARR",
        "outputId": "87a21fa6-8098-4e39-cc30-fd9dbced1ebe"
      },
      "execution_count": 8,
      "outputs": [
        {
          "output_type": "stream",
          "name": "stdout",
          "text": [
            "[1. 1. 1.]\n"
          ]
        }
      ]
    },
    {
      "cell_type": "code",
      "source": [
        "#Zad3\n",
        "'''Bazując na funkcji \"solve_upper_triangular\" zaimplementuj funkcję\n",
        "\"solve_lower_triangular\", a następnie wykorzystaj ją do rozwiązania\n",
        "przykładowych układów równań korzystając z dekompozycji LU'''\n",
        "\n",
        "def solve_lower_triangular(A : np.ndarray, y : np.ndarray):\n",
        "    \"\"\"\n",
        "    A - input matrix (2-D, np.ndarray)\n",
        "    y - coefficients (1-D, np.ndarray)\n",
        "    return x, where Ax = y\n",
        "    \"\"\"\n",
        "    x = np.zeros_like(y).astype(float)\n",
        "    for i in range(A.shape[0]):\n",
        "        if i == 0:\n",
        "            x[i] = y[i] / A[i,i]\n",
        "        else:\n",
        "            x[i] = (y[i] - np.sum(A[i, :i+1] @ x[:i+1])) / A[i, i]\n",
        "    return x\n",
        "\n",
        "\n",
        "# Use the \"solve_lower_triangular\", \"solve_upper_triangular\" and the LU decomposition\n",
        "# to solve a chosen set of equations (with a single solution).\n",
        "\n",
        "#AX = B\n",
        "A = np.array([\n",
        "    [2, 4, 1],\n",
        "    [0, 1, 3],\n",
        "    [0, 0, 2]\n",
        "])\n",
        "B = np.array([7, 4, 2])\n",
        "\n",
        "U, L = gaussian_elimination(A)\n",
        "\n",
        "D = solve_lower_triangular(L, B)\n",
        "X = solve_upper_triangular(U, D)\n",
        "print(X)"
      ],
      "metadata": {
        "colab": {
          "base_uri": "https://localhost:8080/"
        },
        "id": "9qYKrHjH6Qaw",
        "outputId": "0e6a871e-f14f-4842-9bc1-b2269962ae19"
      },
      "execution_count": 9,
      "outputs": [
        {
          "output_type": "stream",
          "name": "stdout",
          "text": [
            "[1. 1. 1.]\n"
          ]
        }
      ]
    }
  ]
}