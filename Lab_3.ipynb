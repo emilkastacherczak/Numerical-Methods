{
  "nbformat": 4,
  "nbformat_minor": 0,
  "metadata": {
    "colab": {
      "provenance": []
    },
    "kernelspec": {
      "name": "python3",
      "display_name": "Python 3"
    },
    "language_info": {
      "name": "python"
    }
  },
  "cells": [
    {
      "cell_type": "code",
      "execution_count": 1,
      "metadata": {
        "id": "ONeuGHQ7HX9Q"
      },
      "outputs": [],
      "source": [
        "import numpy as np\n",
        "import scipy.integrate as spi\n",
        "import time"
      ]
    },
    {
      "cell_type": "code",
      "source": [
        "#Zad1\n",
        "'''Zaimplementuj funkcję (za pomocą pętli for, bez użycia gotowych funkcji)\n",
        "implementującą metodę trapezów, metodę Simpsona 1/3 i metodę Simpsona 3/8.\n",
        "Porównaj działanie do funkcji dostępnych w bibliotece SciPy'''\n",
        "\n",
        "def our_integrate(y, dx, method):\n",
        "  #methods: trapezoidal, simpson_13, simpson_38\n",
        "\n",
        "  if method==\"trapezoidal\":\n",
        "    integral = 0.5 * dx * y[0] + 0.5 * dx * y[-1]\n",
        "    for i in range(1, len(y)-1):\n",
        "      integral += dx * y[i]\n",
        "\n",
        "  if method==\"simpson_13\":\n",
        "    integral = 0.33 * dx * y[0] + 0.33 * dx * y[-1]\n",
        "    for i in range(1, len(y)-1):\n",
        "      if i % 2 == 0:\n",
        "        integral += dx * y[i] * 0.66\n",
        "      if i % 2 != 0:\n",
        "        integral += dx * y[i] * 1.33\n",
        "\n",
        "  if method==\"simpson_38\":\n",
        "    integral = 0.375 * dx * y[0] + 0.375 * dx * y[-1]\n",
        "    for i in range(1, len(y)-1):\n",
        "      integral += 1.125 * dx * y[i]\n",
        "\n",
        "  return integral"
      ],
      "metadata": {
        "id": "qytqBQKPHeQc"
      },
      "execution_count": 4,
      "outputs": []
    },
    {
      "cell_type": "code",
      "source": [
        "#TEST\n",
        "y = np.array([1,2,3,4,5,4,3,2,1])\n",
        "\n",
        "print(\"Metoda trapezów: \\n\")\n",
        "start = time.time()\n",
        "our_trapz = our_integrate(y, 1, \"trapezoidal\")\n",
        "print(\"Nasza funkcja: \", our_trapz)\n",
        "end = time.time()\n",
        "our_trapz_time = end - start\n",
        "print(\"Czas: \", our_trapz_time)\n",
        "\n",
        "start = time.time()\n",
        "trapz = spi.trapz(y)\n",
        "print(\"Funkcja biblioteczna: \", trapz)\n",
        "end = time.time()\n",
        "trapz_time = end - start\n",
        "print(\"Czas: \", trapz_time)\n",
        "\n",
        "\n",
        "print(\"\\nMetoda Simpsona: \\n\")\n",
        "start = time.time()\n",
        "our_simp13 = our_integrate(y, 1, \"simpson_13\")\n",
        "print(\"Nasza funkcja simpsona 1/3: \", our_simp13)\n",
        "end = time.time()\n",
        "our_simp13_time = end - start\n",
        "print(\"Czas: \", our_simp13_time)\n",
        "\n",
        "start = time.time()\n",
        "our_simp38 = our_integrate(y, 1, \"simpson_38\")\n",
        "print(\"Nasza funkcja simpsona 3/8: \", our_simp38)\n",
        "end = time.time()\n",
        "our_simp38_time = end - start\n",
        "print(\"Czas: \", our_simp38_time)\n",
        "\n",
        "start = time.time()\n",
        "simp = spi.simps(y)\n",
        "print(\"Funkcja biblioteczna: \", simp)\n",
        "end = time.time()\n",
        "simp_time = end - start\n",
        "print(\"Czas: \", simp_time)\n"
      ],
      "metadata": {
        "colab": {
          "base_uri": "https://localhost:8080/"
        },
        "id": "ftsX1ZxAH9aE",
        "outputId": "6a3215fc-1dd0-4ef2-fe21-53d65fc6c49f"
      },
      "execution_count": 5,
      "outputs": [
        {
          "output_type": "stream",
          "name": "stdout",
          "text": [
            "Metoda trapezów: \n",
            "\n",
            "Nasza funkcja:  24.0\n",
            "Czas:  0.0003428459167480469\n",
            "Funkcja biblioteczna:  24.0\n",
            "Czas:  0.00039887428283691406\n",
            "\n",
            "Metoda Simpsona: \n",
            "\n",
            "Nasza funkcja simpsona 1/3:  23.880000000000003\n",
            "Czas:  0.0002765655517578125\n",
            "Nasza funkcja simpsona 3/8:  26.625\n",
            "Czas:  0.00025081634521484375\n",
            "Funkcja biblioteczna:  24.0\n",
            "Czas:  0.0003345012664794922\n"
          ]
        }
      ]
    },
    {
      "cell_type": "code",
      "source": [
        "#Zad2\n",
        "'''Zaimplementuj własny generator do sumy kumulacyjnej (za pomocą pętli for)\n",
        "i korzystając z niej zaimplementuj rekurencyjnie całkowanie z Zadania 1'''\n",
        "\n",
        "def our_sum(data):\n",
        "  sum = np.zeros_like(data)\n",
        "  for i in range(len(data)-1):\n",
        "    sum[i] += sum[i-1] + data[i]\n",
        "    yield sum[i]\n",
        "\n",
        "\n",
        "def our_integrate(y, dx, method):\n",
        "  #methods: trapezoidal, simpson_13, simpson_38\n",
        "  cumulative = our_sum(y)\n",
        "\n",
        "  if method==\"trapezoidal\":\n",
        "    integral = 0.5 * dx * next(cumulative)\n",
        "    for value in cumulative:\n",
        "      integral += dx * value\n",
        "  if method==\"simpson_13\":\n",
        "    integral = 0.33 * dx * next(cumulative)\n",
        "    for value in cumulative:\n",
        "      i = 1\n",
        "      if i % 2 == 0:\n",
        "        integral += dx * value * 0.66\n",
        "        i += 1\n",
        "      if i % 2 != 0:\n",
        "        integral += dx * value * 1.33\n",
        "        i += 1\n",
        "  if method==\"simpson_38\":\n",
        "    integral = 0.375 * dx * next(cumulative)\n",
        "    for value in cumulative:\n",
        "      integral += 1.125 * dx * value\n",
        "\n",
        "  return integral"
      ],
      "metadata": {
        "id": "mxGP1_lnHhr8"
      },
      "execution_count": 7,
      "outputs": []
    },
    {
      "cell_type": "code",
      "source": [
        "y = np.array([0,1,2,3,4,5])\n",
        "\n",
        "gen = our_sum(y)\n",
        "print(\"Test sumy kumulacyjnej: \")\n",
        "print(next(gen))\n",
        "print(next(gen))\n",
        "print(next(gen))\n",
        "print(next(gen))\n",
        "\n",
        "start = time.time()\n",
        "print(\"\\nMetoda trapezów: \", our_integrate(y, 1, \"trapezoidal\"))\n",
        "end = time.time()\n",
        "tapz_time = end - start\n",
        "print(\"Czas: \", trapz_time)\n",
        "\n",
        "start = time.time()\n",
        "print(\"Metoda Simpsoa 1/3: \", our_integrate(y, 1, \"simpson_13\"))\n",
        "end = time.time()\n",
        "simps13_time = end - start\n",
        "print(\"Czas: \", simps13_time)\n",
        "\n",
        "start = time.time()\n",
        "print(\"Metoda Simpsona 3/8: \", our_integrate(y, 1, \"simpson_38\"))\n",
        "end = time.time()\n",
        "simps38_time = end - start\n",
        "print(\"Czas: \", simps38_time)\n",
        "\n",
        "def f(x):\n",
        "  return x\n",
        "start = time.time()\n",
        "result, error = spi.quad(f,0,len(y))\n",
        "end = time.time()\n",
        "gauss_time = end - start\n",
        "print(\"Metoda kwadratury Gaussa z biblioteki: \", result, \" (Błąd:\", round(error), \")\")\n",
        "print(\"Czas: \", gauss_time)"
      ],
      "metadata": {
        "colab": {
          "base_uri": "https://localhost:8080/"
        },
        "id": "yVVj20klIE6Z",
        "outputId": "22cef298-6c37-4133-9811-1c9b2decfab2"
      },
      "execution_count": 8,
      "outputs": [
        {
          "output_type": "stream",
          "name": "stdout",
          "text": [
            "Test sumy kumulacyjnej: \n",
            "0\n",
            "1\n",
            "3\n",
            "6\n",
            "\n",
            "Metoda trapezów:  20.0\n",
            "Czas:  0.00039887428283691406\n",
            "Metoda Simpsoa 1/3:  26.6\n",
            "Czas:  0.0008578300476074219\n",
            "Metoda Simpsona 3/8:  22.5\n",
            "Czas:  0.0002942085266113281\n",
            "Metoda kwadratury Gaussa z biblioteki:  18.0  (Błąd: 0 )\n",
            "Czas:  0.00016641616821289062\n"
          ]
        }
      ]
    }
  ]
}