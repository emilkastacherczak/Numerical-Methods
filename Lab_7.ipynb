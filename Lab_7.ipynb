{
  "nbformat": 4,
  "nbformat_minor": 0,
  "metadata": {
    "colab": {
      "provenance": []
    },
    "kernelspec": {
      "name": "python3",
      "display_name": "Python 3"
    },
    "language_info": {
      "name": "python"
    }
  },
  "cells": [
    {
      "cell_type": "code",
      "source": [
        "import numpy as np\n",
        "import matplotlib.pyplot as plt"
      ],
      "metadata": {
        "id": "jOlNPfmlq9Ry"
      },
      "execution_count": 2,
      "outputs": []
    },
    {
      "cell_type": "code",
      "execution_count": 3,
      "metadata": {
        "id": "W7ukZLq_gdKB"
      },
      "outputs": [],
      "source": [
        "#Zad1\n",
        "'''Zaimplementuj funkcję ransac według schematu przedstawionego na zajęciach'''\n",
        "\n",
        "def ransac(X: np.ndarray, y: np.ndarray, num_samples: int, max_iters: int, threshold: float):\n",
        "  best_model = 0\n",
        "  best_ratio = 0\n",
        "\n",
        "  for i in range(max_iters):\n",
        "    rand = np.random.choice(len(X), num_samples)\n",
        "    X_samples = X[rand]\n",
        "    y_samples = y[rand]\n",
        "    print(\"X_samples: \", X_samples)\n",
        "    print(\"y_samples: \", y_samples)\n",
        "\n",
        "    #model parameters from samples\n",
        "    current_model = np.polyfit(X_samples, y_samples, 1)\n",
        "\n",
        "    predicted_y = np.polyval(current_model, X)\n",
        "\n",
        "    error = (predicted_y - y)**2\n",
        "\n",
        "    p = np.sum(error < threshold)\n",
        "\n",
        "    current_ratio = p / len(X)\n",
        "\n",
        "    if current_ratio > best_ratio:\n",
        "      best_model = current_model\n",
        "      best_ratio = current_ratio\n",
        "\n",
        "  return best_model"
      ]
    },
    {
      "cell_type": "code",
      "source": [
        "#TEST\n",
        "\n",
        "X = np.array([1, 2, 3, 4, 5, 6, 7, 8, 9, 10])\n",
        "y = np.array([1, 2, 32, 33, 5, 6, 7, 8, 58, 10])\n",
        "\n",
        "best_model = ransac(X, y, num_samples=3, max_iters=10, threshold=0.5)\n",
        "print(\"Best model: \", best_model)\n",
        "\n",
        "ransac_fun = []\n",
        "for i in range(len(X)):\n",
        "  ransac_fun.append(best_model[0]*X[i]+best_model[1])\n",
        "\n",
        "plt.figure()\n",
        "plt.plot(X, y, \"r*\")\n",
        "plt.plot(X, ransac_fun, \"g-\")\n",
        "plt.grid(True)\n",
        "plt.show()"
      ],
      "metadata": {
        "colab": {
          "base_uri": "https://localhost:8080/",
          "height": 795
        },
        "id": "KraJM2Woq583",
        "outputId": "f8c8a407-db2a-4b55-d7e9-4593ab217d0a"
      },
      "execution_count": 4,
      "outputs": [
        {
          "output_type": "stream",
          "name": "stdout",
          "text": [
            "X_samples:  [5 1 9]\n",
            "y_samples:  [ 5  1 58]\n",
            "X_samples:  [8 6 4]\n",
            "y_samples:  [ 8  6 33]\n",
            "X_samples:  [1 5 9]\n",
            "y_samples:  [ 1  5 58]\n",
            "X_samples:  [10 10  1]\n",
            "y_samples:  [10 10  1]\n",
            "X_samples:  [8 6 8]\n",
            "y_samples:  [8 6 8]\n",
            "X_samples:  [ 5  2 10]\n",
            "y_samples:  [ 5  2 10]\n",
            "X_samples:  [7 2 6]\n",
            "y_samples:  [7 2 6]\n",
            "X_samples:  [ 9 10  6]\n",
            "y_samples:  [58 10  6]\n",
            "X_samples:  [ 8 10  6]\n",
            "y_samples:  [ 8 10  6]\n",
            "X_samples:  [10 10  6]\n",
            "y_samples:  [10 10  6]\n",
            "Best model:  [ 1.00000000e+00 -1.66070504e-15]\n"
          ]
        },
        {
          "output_type": "display_data",
          "data": {
            "text/plain": [
              "<Figure size 640x480 with 1 Axes>"
            ],
            "image/png": "[encoded data removed]"
          },
          "metadata": {}
        }
      ]
    }
  ]
}