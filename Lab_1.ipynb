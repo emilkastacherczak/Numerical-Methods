{
  "nbformat": 4,
  "nbformat_minor": 0,
  "metadata": {
    "colab": {
      "provenance": []
    },
    "kernelspec": {
      "name": "python3",
      "display_name": "Python 3"
    },
    "language_info": {
      "name": "python"
    }
  },
  "cells": [
    {
      "cell_type": "code",
      "execution_count": 1,
      "metadata": {
        "id": "PYhc_4UQt7Im"
      },
      "outputs": [],
      "source": [
        "import numpy as np\n",
        "import math\n",
        "import time"
      ]
    },
    {
      "cell_type": "code",
      "source": [
        "#Zad1\n",
        "'''Pacjenci w szpitalu otrzymują różne dawki leku w zależności od ich wagi.\n",
        " Stwórz funkcję, która przyjmuje listę wag pacjentów i zwraca listę z\n",
        " odpowiednimi dawkami leku.'''\n",
        "\n",
        "def oblicz_dawki(wagi):\n",
        "  dawki = []\n",
        "  for waga in wagi:\n",
        "    if waga < 50:\n",
        "      dawka = 20\n",
        "      dawki.append(dawka)\n",
        "    elif waga >= 50 and waga <=100:\n",
        "      dawka = 50\n",
        "      dawki.append(dawka)\n",
        "    else:\n",
        "      dawka = 100\n",
        "      dawki.append(dawka)\n",
        "  return np.array(dawki)\n",
        "\n",
        "wagi = np.array([45, 75, 105])\n",
        "oblicz_dawki(wagi)"
      ],
      "metadata": {
        "colab": {
          "base_uri": "https://localhost:8080/"
        },
        "id": "PnldBnXRjBrt",
        "outputId": "10caaeb0-33a7-413c-d9c6-22d927940a3e"
      },
      "execution_count": 2,
      "outputs": [
        {
          "output_type": "execute_result",
          "data": {
            "text/plain": [
              "array([ 20,  50, 100])"
            ]
          },
          "metadata": {},
          "execution_count": 2
        }
      ]
    },
    {
      "cell_type": "code",
      "source": [
        "#Zad2\n",
        "'''W szpitalu prowadzone są badania dotyczące wpływu leku na ciśnienie krwi\n",
        " pacjentów. Dla listy pacjentów, która zawiera zapisane ciśnienie krwi przed\n",
        " i po podaniu leku, oblicz procent pacjentów, u których ciśnienie spadło po\n",
        " podaniu leku.'''\n",
        "\n",
        "def lek(cisnienia):\n",
        "  spadlo = 0\n",
        "  for przed,po in cisnienia:\n",
        "    if przed>po:\n",
        "      spadlo += 1\n",
        "  return spadlo*100/len(cisnienia)\n",
        "\n",
        "cisnienia = [\n",
        "    (120, 115),\n",
        "    (140, 138),\n",
        "    (130, 125),\n",
        "    (150, 155),\n",
        "    (110, 108)\n",
        "]\n",
        "\n",
        "print(\"Cisnienie spadło u  {:.0f} % pacjentów\".format(lek(cisnienia)))"
      ],
      "metadata": {
        "colab": {
          "base_uri": "https://localhost:8080/"
        },
        "id": "_lIzq_lU53Eb",
        "outputId": "3138f7dd-0cb4-43a0-f832-ca95d2d0736b"
      },
      "execution_count": 4,
      "outputs": [
        {
          "output_type": "stream",
          "name": "stdout",
          "text": [
            "Cisnienie spadło u  80 % pacjentów\n"
          ]
        }
      ]
    },
    {
      "cell_type": "code",
      "source": [
        "#Zad6 obliczanie bledu maszynowego float16\n",
        "\n",
        "def calculate_machine_epsilon_f16():\n",
        "  epsilon = np.float16(1.0)\n",
        "  #dzieli epsilon na pół dopóki nie jest nieznaczący\n",
        "  while np.float16(1+epsilon) != np.float16(1.0):\n",
        "    epsilon = epsilon/np.float16(2.0)\n",
        "  return epsilon\n",
        "\n",
        "print(calculate_machine_epsilon_f16())"
      ],
      "metadata": {
        "colab": {
          "base_uri": "https://localhost:8080/"
        },
        "id": "_zStsbv3-P2N",
        "outputId": "915dae58-0584-4524-9e1e-204eb9ce94eb"
      },
      "execution_count": null,
      "outputs": [
        {
          "output_type": "stream",
          "name": "stdout",
          "text": [
            "0.0004883\n"
          ]
        }
      ]
    },
    {
      "cell_type": "code",
      "source": [
        "#Zad3\n",
        "'''W dziedzinie medycyny obrazowej często stosuje się przekształcenia obrazów.\n",
        " Jednym z najprostszych z nich jest progowanie (thresholding). Polega ono na\n",
        " porównywaniu wartości danego piksela z wartością progową i wpisywanie do niego\n",
        " wartości 255 jeśli jest większy od wartości progowej lub 0 jeśli jest mniejszy.\n",
        " Funkcja thresholding, przyjmuje dwuwymiarową macierz (obraz) oraz wartość\n",
        " progową T i zwraca nową macierz po operacji thresholdingu.'''\n",
        "\n",
        "def tresholding(obraz, T):\n",
        "  for i in range(len(obraz)):\n",
        "    for j in range(len(obraz[0])):\n",
        "      if obraz[i][j] < T:\n",
        "        obraz[i][j]=0\n",
        "      else:\n",
        "        obraz[i][j]=255\n",
        "  return obraz\n",
        "\n",
        "obraz = np.array([\n",
        "    [120, 130, 140],\n",
        "    [150, 160, 170],\n",
        "    [180, 190, 200]\n",
        "])\n",
        "tresholding(obraz, 150)"
      ],
      "metadata": {
        "colab": {
          "base_uri": "https://localhost:8080/"
        },
        "id": "QDGqmfvDXuE5",
        "outputId": "aed24f6d-6a9b-44b9-c586-9dcd74d655f8"
      },
      "execution_count": 5,
      "outputs": [
        {
          "output_type": "execute_result",
          "data": {
            "text/plain": [
              "array([[  0,   0,   0],\n",
              "       [255, 255, 255],\n",
              "       [255, 255, 255]])"
            ]
          },
          "metadata": {},
          "execution_count": 5
        }
      ]
    },
    {
      "cell_type": "code",
      "source": [
        "#Zad4\n",
        "'''Dane z EEG (elektroencefalografia) pacjenta są zapisane w postaci tablicy\n",
        " numpy reprezentującej napięcie zarejestrowane w kolejnych punktach czasowych.\n",
        " Chcielibyśmy analizować te dane w segmentach o określonej długości czasu (tzw.\n",
        " okna czasowe). Napisz generator, który będzie zwracać fragmenty tej tablicy.'''\n",
        "\n",
        "def generator_segmentow_eeg(eeg_data, segment_length):\n",
        "  i=0\n",
        "  while i <= len(eeg_data):\n",
        "    yield eeg_data[i:i+segment_length]\n",
        "    i+=segment_length\n",
        "\n",
        "eeg_data = np.array([0.5, 0.6, 0.7, 0.55, 0.65, 0.7, 0.8, 0.85])\n",
        "gen = generator_segmentow_eeg(eeg_data, 3)\n",
        "print(next(gen))\n",
        "print(next(gen))\n",
        "print(next(gen))\n",
        "print(next(gen))"
      ],
      "metadata": {
        "id": "876HvEyBCltN",
        "colab": {
          "base_uri": "https://localhost:8080/",
          "height": 263
        },
        "outputId": "76248325-1ce2-40e0-874d-0f23df281542"
      },
      "execution_count": 6,
      "outputs": [
        {
          "output_type": "stream",
          "name": "stdout",
          "text": [
            "[0.5 0.6 0.7]\n",
            "[0.55 0.65 0.7 ]\n",
            "[0.8  0.85]\n"
          ]
        },
        {
          "output_type": "error",
          "ename": "StopIteration",
          "evalue": "",
          "traceback": [
            "\u001b[0;31m---------------------------------------------------------------------------\u001b[0m",
            "\u001b[0;31mStopIteration\u001b[0m                             Traceback (most recent call last)",
            "\u001b[0;32m<ipython-input-6-a62761c253b7>\u001b[0m in \u001b[0;36m<cell line: 18>\u001b[0;34m()\u001b[0m\n\u001b[1;32m     16\u001b[0m \u001b[0mprint\u001b[0m\u001b[0;34m(\u001b[0m\u001b[0mnext\u001b[0m\u001b[0;34m(\u001b[0m\u001b[0mgen\u001b[0m\u001b[0;34m)\u001b[0m\u001b[0;34m)\u001b[0m\u001b[0;34m\u001b[0m\u001b[0;34m\u001b[0m\u001b[0m\n\u001b[1;32m     17\u001b[0m \u001b[0mprint\u001b[0m\u001b[0;34m(\u001b[0m\u001b[0mnext\u001b[0m\u001b[0;34m(\u001b[0m\u001b[0mgen\u001b[0m\u001b[0;34m)\u001b[0m\u001b[0;34m)\u001b[0m\u001b[0;34m\u001b[0m\u001b[0;34m\u001b[0m\u001b[0m\n\u001b[0;32m---> 18\u001b[0;31m \u001b[0mprint\u001b[0m\u001b[0;34m(\u001b[0m\u001b[0mnext\u001b[0m\u001b[0;34m(\u001b[0m\u001b[0mgen\u001b[0m\u001b[0;34m)\u001b[0m\u001b[0;34m)\u001b[0m\u001b[0;34m\u001b[0m\u001b[0;34m\u001b[0m\u001b[0m\n\u001b[0m",
            "\u001b[0;31mStopIteration\u001b[0m: "
          ]
        }
      ]
    },
    {
      "cell_type": "code",
      "source": [
        "#Zad5\n",
        "\n",
        "def universal_calculator(*args, **kwargs):\n",
        "  if kwargs[\"operation\"] == \"add\":\n",
        "    wynik = 0\n",
        "    for wartosc in args:\n",
        "      wynik += wartosc\n",
        "  if kwargs[\"operation\"] == \"multiply\":\n",
        "    wynik = 1\n",
        "    for wartosc in args:\n",
        "      wynik *= wartosc\n",
        "  if kwargs[\"operation\"] == \"divide\":\n",
        "    wynik = args[0]\n",
        "    args_list = list(args)\n",
        "    args_list.pop(0)\n",
        "    for wartosc in args_list:\n",
        "      wynik /= wartosc\n",
        "  if kwargs[\"operation\"] == \"substract\":\n",
        "    wynik = 0\n",
        "    for wartosc in args:\n",
        "      wynik -= wartosc\n",
        "\n",
        "  if \"power\" in kwargs.keys():\n",
        "    wynik = wynik ** kwargs[\"power\"]\n",
        "\n",
        "  if \"show_steps\" in kwargs.keys():\n",
        "    dzialania = {\"add\": \"+\", \"multiply\": \"*\", \"substract\":\"-\", \"divide\":\"/\"}\n",
        "    steps = \"\"\n",
        "    for x in args:\n",
        "      steps += str(x)\n",
        "      steps += dzialania[kwargs[\"operation\"]]\n",
        "    steps = steps[:-1] + \"=\"\n",
        "    steps += str(wynik)\n",
        "    print(steps)\n",
        "\n",
        "  return wynik\n",
        "\n",
        "print(universal_calculator(1, 2, 3, 4, operation=\"add\"))\n",
        "print(universal_calculator(1, 2, 3, operation=\"multiply\"))\n",
        "print(universal_calculator(1, 3, operation=\"divide\"))\n",
        "print(universal_calculator(10, 2, operation=\"divide\", power=2))\n",
        "print(universal_calculator(1, 2, 3, operation=\"add\", show_steps=True))"
      ],
      "metadata": {
        "colab": {
          "base_uri": "https://localhost:8080/"
        },
        "id": "xrMVG-mSBAnv",
        "outputId": "8baf602a-3483-4f93-8ec0-4b981a52d7ef"
      },
      "execution_count": 7,
      "outputs": [
        {
          "output_type": "stream",
          "name": "stdout",
          "text": [
            "10\n",
            "6\n",
            "0.3333333333333333\n",
            "25.0\n",
            "1+2+3=6\n",
            "6\n"
          ]
        }
      ]
    },
    {
      "cell_type": "code",
      "source": [
        "#Zad7\n",
        "'''Porównanie numpy do tablicy tradycyjnej'''\n",
        "\n",
        "# Tworzymy listę wartości od 0 do 10^6\n",
        "values = [i * 0.001 for i in range(1000000)]\n",
        "\n",
        "start_time = time.time()\n",
        "\n",
        "sin_values = []\n",
        "for val in values:\n",
        "    sin_values.append(math.sin(val))\n",
        "\n",
        "end_time = time.time()\n",
        "print(f\"Traditional loop took {end_time - start_time} seconds\")\n",
        "\n",
        "start_time = time.time()\n",
        "\n",
        "sin_values = np.zeros_like(values)\n",
        "# for val in values:\n",
        "#     sin_values.append(np.sin(val))\n",
        "for i in range(len(values)):\n",
        "    sin_values[i] = np.sin(values[i])\n",
        "\n",
        "end_time = time.time()\n",
        "print(f\"Numpy loop took {end_time - start_time} seconds\")"
      ],
      "metadata": {
        "colab": {
          "base_uri": "https://localhost:8080/"
        },
        "id": "gmwAP2bZxzPj",
        "outputId": "94b6cca3-a3ec-4176-bd8f-cc4896c856be"
      },
      "execution_count": 8,
      "outputs": [
        {
          "output_type": "stream",
          "name": "stdout",
          "text": [
            "Traditional loop took 0.42354846000671387 seconds\n",
            "Numpy loop took 1.90628981590271 seconds\n"
          ]
        }
      ]
    },
    {
      "cell_type": "code",
      "source": [
        "#Zad8\n",
        "'''Twoim zadaniem jest stworzenie prostego kalkulatora oszczędnościowego,\n",
        " który pomoże użytkownikowi przewidzieć, ile pieniędzy uda mu się zaoszczędzić\n",
        " w ciągu określonego czasu.'''\n",
        "\n",
        "P = float(input(\"Podaj początkową sumę oszczędności: \"))\n",
        "PMT = float(input(\"Podaj miesięczną kwotę, którą planujesz oszczędzać: \"))\n",
        "r = float(input(\"Podaj roczne oprocentowanie swojego konta oszczędnościowego [%]: \"))/100\n",
        "t = int(input(\"Podaj liczbę lat, przez które planujesz oszczędzać: \"))\n",
        "n=12\n",
        "\n",
        "#Końcowa suma obliczana według podanego wzoru\n",
        "A = (P*((1+r/n)**(n*t)))+(PMT*( (((1+r/n)**(n*t))-1)/(r/n) ))\n",
        "print(\"\\nKońcowa suma oszczędności: {:.2f}\".format(A))"
      ],
      "metadata": {
        "colab": {
          "base_uri": "https://localhost:8080/"
        },
        "id": "dGSRijz5O2dV",
        "outputId": "b7a162e6-1492-4ccc-f047-a2c2d4bb5985"
      },
      "execution_count": null,
      "outputs": [
        {
          "output_type": "stream",
          "name": "stdout",
          "text": [
            "Podaj początkową sumę oszczędności: 0\n",
            "Podaj miesięczną kwotę, którą planujesz oszczędzać: 500\n",
            "Podaj roczne oprocentowanie swojego konta oszczędnościowego [%]: 3\n",
            "Podaj liczbę lat, przez które planujesz oszczędzać: 5\n",
            "\n",
            "Końcowa suma oszczędności: 32323.36\n"
          ]
        }
      ]
    }
  ]
}