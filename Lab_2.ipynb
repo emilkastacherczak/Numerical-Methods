{
  "nbformat": 4,
  "nbformat_minor": 0,
  "metadata": {
    "colab": {
      "provenance": []
    },
    "kernelspec": {
      "name": "python3",
      "display_name": "Python 3"
    },
    "language_info": {
      "name": "python"
    }
  },
  "cells": [
    {
      "cell_type": "code",
      "execution_count": 9,
      "metadata": {
        "id": "ucvwmi_aiT8c"
      },
      "outputs": [],
      "source": [
        "import numpy as np\n",
        "from scipy.signal import convolve, fftconvolve\n",
        "import time"
      ]
    },
    {
      "cell_type": "code",
      "source": [
        "#Zad1\n",
        "'''Zaimplementuj funkcję do obliczania splotu 1D iteracyjnie. Porównaj działanie\n",
        " zaimplementowanej funkcji z funkcją biblioteczną (SciPy) oraz czas\n",
        " wykonywania obliczeń.'''\n",
        "\n",
        "def our_convolution(x1, x2):\n",
        "  # x1 - signal 1\n",
        "  # x2 - signal 2\n",
        "\n",
        "  M = len(x1)\n",
        "  N = len(x2)\n",
        "  splot = np.zeros(M + N - 1)\n",
        "\n",
        "  # Padding - uzupełnienie brakujących elementów zerami\n",
        "  x1_padded = np.pad(x1, (0, N - 1))   # np.pad(array, pad_width) - uzupełnianie tablicy\n",
        "  x2_padded = np.pad(x2, (0, M - 1))\n",
        "  print(\"x1 padded: \", x1_padded)\n",
        "  print(\"x2_padded: \", x2_padded)\n",
        "\n",
        "  for i in range(M + N - 1):\n",
        "    for j in range(M):\n",
        "      splot[i] += x1_padded[j] * x2_padded[i - j]\n",
        "\n",
        "  return splot\n",
        "\n",
        "\n",
        "x1 = np.array([1,2,2,1])\n",
        "x2 = np.array([2,1,0]) #kernel\n",
        "\n",
        "start = time.time()\n",
        "splot = our_convolution(x1, x2)\n",
        "end = time.time()\n",
        "t = end - start\n",
        "print(\"\\nOur splot: \", splot)\n",
        "print(\"Time: \", t)\n",
        "\n",
        "start = time.time()\n",
        "splot_library = convolve(x1, x2, mode='full')\n",
        "end = time.time()\n",
        "time_library = end - start\n",
        "print(\"\\nLibrary Splot: \", splot_library)\n",
        "print(\"Time: \", time_library)\n",
        "\n",
        "start = time.time()\n",
        "splot_library_fourier = fftconvolve(x1, x2, mode='full')\n",
        "end = time.time()\n",
        "time_library_fourier = end - start\n",
        "print(\"\\nLibrary Fourier splot: \", splot_library_fourier)\n",
        "print(\"Czas: \", time_library_fourier)"
      ],
      "metadata": {
        "colab": {
          "base_uri": "https://localhost:8080/"
        },
        "id": "sPvnonGwnn70",
        "outputId": "d8b28394-fea9-4dd4-d332-d0760a86aff0"
      },
      "execution_count": 2,
      "outputs": [
        {
          "output_type": "stream",
          "name": "stdout",
          "text": [
            "x1 padded:  [1 2 2 1 0 0]\n",
            "x2_padded:  [2 1 0 0 0 0]\n",
            "\n",
            "Our splot:  [2. 5. 6. 4. 1. 0.]\n",
            "Time:  0.0011911392211914062\n",
            "\n",
            "Library Splot:  [2 5 6 4 1 0]\n",
            "Time:  0.008722305297851562\n",
            "\n",
            "Library Fourier splot:  [2.00000000e+00 5.00000000e+00 6.00000000e+00 4.00000000e+00\n",
            " 1.00000000e+00 5.92118946e-16]\n",
            "Czas:  0.00410008430480957\n"
          ]
        }
      ]
    },
    {
      "cell_type": "code",
      "source": [
        "#Zad 2\n",
        "'''Zaimplementuj funkcję do obliczenia pochodnej funkcji jednej zmiennej\n",
        "“centralnie”, która umożliwia wybór rzędu pochodnej (1,2,3,4) oraz trybu\n",
        "(splot lub sekwencyjnie).'''\n",
        "\n",
        "def our_derivative(x, step, order, mode):\n",
        "   # order - rząd pochodnej, 1,2,3,4\n",
        "   # mode == conv/sequential - tryb działania (konwolucyjnie / sekwencyjnie)\n",
        "\n",
        "  if mode == \"sequential\":\n",
        "    derivative = np.zeros_like(x)\n",
        "    #obliczenie pochodnej 1 rzędu\n",
        "    for i in range(1, len(x) - 1):\n",
        "      derivative[i] = (x[i + step] - x[i - step])/2*step\n",
        "    #kolejne rzędy\n",
        "    while order > 1:\n",
        "      for i in range(1, len(x) - 1):\n",
        "        derivative[i] = (derivative[i + step] - derivative[i - step])/2*step\n",
        "      order = order - 1\n",
        "\n",
        "  if mode == \"conv\":\n",
        "    kernels = [ [-1, 1], [1, -2, 1], [-1, 3, -3, 1], [1, -4, 6, -4, 1] ]\n",
        "    kernel = kernels[order-1]\n",
        "    #obliczenie pochodnej przy uzyciu splotu\n",
        "    M = len(x)\n",
        "    N = len(kernel)\n",
        "    derivative = np.zeros(M + N - 1)\n",
        "    x_padded = np.pad(x, (0, N - 1))\n",
        "    kernel_padded = np.pad(kernel, (0, M - 1))\n",
        "    for i in range(M + N - 1):\n",
        "      for j in range(M):\n",
        "        derivative[i] += x_padded[j] * kernel_padded[i - j]\n",
        "\n",
        "  return derivative"
      ],
      "metadata": {
        "id": "x-bvn_c9uv8j"
      },
      "execution_count": 8,
      "outputs": []
    }
  ]
}